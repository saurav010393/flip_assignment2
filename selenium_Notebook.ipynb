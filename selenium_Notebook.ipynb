{
 "cells": [
  {
   "cell_type": "markdown",
   "metadata": {},
   "source": [
    "# Web Scrapping using selenium:"
   ]
  },
  {
   "cell_type": "markdown",
   "metadata": {},
   "source": [
    "# importing important driver:"
   ]
  },
  {
   "cell_type": "code",
   "execution_count": null,
   "metadata": {},
   "outputs": [],
   "source": [
    "from selenium import webdriver\n",
    "import requests\n",
    "from selenium.common.exceptions import StaleElementReferenceException       "
   ]
  },
  {
   "cell_type": "markdown",
   "metadata": {},
   "source": [
    "# saving of image into a directory:"
   ]
  },
  {
   "cell_type": "code",
   "execution_count": null,
   "metadata": {},
   "outputs": [],
   "source": [
    "import shutil\n",
    "import os\n",
    "import requests\n",
    "import pandas as pd\n",
    "import csv\n",
    "\n",
    "\n",
    "def make_directory(dirname):\n",
    "    current_path = os.getcwd()\n",
    "    path = os.path.join(current_path, dirname)\n",
    "    if not os.path.exists(path):\n",
    "        os.makedirs(path)\n",
    "\n",
    "\n",
    "def save_images(data, dirname, page):\n",
    "    for index, link in enumerate(data['image_urls']):\n",
    "        # if index >= 30 and page == 2:\n",
    "        #     break\n",
    "        print('Downloading {0} image'.format(index + 1))\n",
    "        response = requests.get(link)\n",
    "        with open('{0}/img_{1}{2}.jpg'.format(dirname, page, index), 'wb') as file:\n",
    "            file.write(response.content)"
   ]
  },
  {
   "cell_type": "markdown",
   "metadata": {},
   "source": [
    "# #Scrapping Image URLs using selenium"
   ]
  },
  {
   "cell_type": "code",
   "execution_count": null,
   "metadata": {},
   "outputs": [],
   "source": [
    "def scrap_image_url(webD):\n",
    "    images=webD.find_elements_by_xpath(\"//img[@class='_3togXc']\")\n",
    "    brands=webD.find_elements_by_xpath(\"// div [@class='_2B_pmu']\")\n",
    "    product_description=webD.find_elements_by_xpath(\"\")\n",
    "    prices=webD.find_elements_by_xpath(\"\")\n",
    "\n",
    "\n",
    "    product_data={}\n",
    "    product_data['image_urls']=[]\n",
    "    product_data['product_description']=[]\n",
    "    product_data['brands']=[]\n",
    "    product_data['prices']=[]\n",
    "\n",
    "    for image in images:\n",
    "        source=image.get_attribute('src')\n",
    "        product_data['image_urls'].append(source)\n",
    "\n",
    "    for brand in brands:\n",
    "        product_data['brands'].append(brand.text)\n",
    "\n",
    "    for product_desc in product_description:\n",
    "        product_data['product_description'].append(product_desc.text)\n",
    "\n",
    "    for price in prices:\n",
    "        product_data['price'].append(price.text)\n",
    "    print(\"Returning Sraped data\")\n",
    "\n",
    "    return product_data\n",
    "\n",
    "    #driver.close()\n",
    "\n",
    "\n",
    "def scrap_image_url(driver):\n",
    "    images=driver.find_elements_by_xpath(\"//img[@class='_3togXc']\")\n",
    "\n",
    "    product_data={}\n",
    "    product_data['image_urls']=[]\n",
    "\n",
    "    for image in images:\n",
    "        source=image.get_attribute('src')\n",
    "        product_data['image_urls'].append(source)\n",
    "\n",
    "    # product_data=product_data['image_urls'][0:100]\n",
    "    return product_data"
   ]
  },
  {
   "cell_type": "markdown",
   "metadata": {},
   "source": [
    "# Calling all the above defined function and perform scrapping using Chrome driver:"
   ]
  },
  {
   "cell_type": "code",
   "execution_count": null,
   "metadata": {},
   "outputs": [],
   "source": [
    "driver_path = 'C:\\\\selenium\\\\chromedriver.exe'\n",
    "\n",
    "driver = webdriver.Chrome(executable_path=driver_path)\n",
    "dirnames = ['men_jeans','men_trouser']\n",
    "\n",
    "\n",
    "start = 1\n",
    "end = 2\n",
    "for dirname in dirnames:\n",
    "    current_page_url = driver.get('https://www.flipkart.com/clothing-and-accessories/bottomwear/jeans/men-jeans/pr?sid=clo,vua,k58,i51&otracker=categorytree&otracker=nmenu_sub_Men_0_Jeans')\n",
    "    make_directory(dirname)\n",
    "    for page in range(start,end+1):\n",
    "        try:\n",
    "            page_value = driver.find_element_by_xpath(\"//a [@class='_2Xp0TH fyt9Eu']\").text\n",
    "            print('The current scraped page is {}'.format(page_value))\n",
    "\n",
    "            product_details = scrap_image_url(driver=driver)\n",
    "            print('Scrapping page {}'.format(page))\n",
    "\n",
    "\n",
    "            save_images(data=product_details, dirname=dirname, page=page)\n",
    "\n",
    "            print('Moving to the next page')\n",
    "            value= driver.find_element_by_xpath(\"//a [@class='_3fVaIS']\")\n",
    "            link = value.get_attribute('href')\n",
    "            driver.get(link)\n",
    "\n",
    "\n",
    "        except StaleElementReferenceException as Exception:\n",
    "            print('We are facing an Exception')\n",
    "\n",
    "            exp_page = driver.find_element_by_xpath(\"//a [@class='_2Xp0TH fyt9Eu']\").text\n",
    "            print('The page value at the time of exception is {}'.format(exp_page))\n",
    "\n",
    "            value= driver.find_element_by_xpath(\"//a [@class='_3fVaIS']\")\n",
    "            link = value.get_attribute('href')\n",
    "            driver.get(link)\n",
    "\n",
    "            product_details=scrap_image_url(driver=driver)\n",
    "\n",
    "            save_images(data=product_details, dirname=dirname, page=page)\n",
    "\n",
    "            print('Moving to the next page')\n",
    "            value= driver.find_element_by_xpath(\"//a [@class='_3fVaIS']\")\n",
    "            link = value.get_attribute('href')\n",
    "            driver.get(link)"
   ]
  },
  {
   "cell_type": "code",
   "execution_count": null,
   "metadata": {},
   "outputs": [],
   "source": []
  }
 ],
 "metadata": {
  "kernelspec": {
   "display_name": "Python 3",
   "language": "python",
   "name": "python3"
  },
  "language_info": {
   "codemirror_mode": {
    "name": "ipython",
    "version": 3
   },
   "file_extension": ".py",
   "mimetype": "text/x-python",
   "name": "python",
   "nbconvert_exporter": "python",
   "pygments_lexer": "ipython3",
   "version": "3.7.4"
  }
 },
 "nbformat": 4,
 "nbformat_minor": 2
}
