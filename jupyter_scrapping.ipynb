{
 "cells": [
  {
   "cell_type": "code",
   "execution_count": 1,
   "metadata": {},
   "outputs": [],
   "source": [
    "import selenium\n",
    "import os\n",
    "from selenium import webdriver as wb"
   ]
  },
  {
   "cell_type": "code",
   "execution_count": 2,
   "metadata": {},
   "outputs": [],
   "source": [
    "driver=wb.Chrome('C:\\\\selenium\\\\chromedriver.exe')"
   ]
  },
  {
   "cell_type": "code",
   "execution_count": 3,
   "metadata": {},
   "outputs": [],
   "source": [
    "my_page= driver.get('https://www.flipkart.com/mens-jeans/pr?sid=clo%2Cvua%2Ck58%2Ci51&otracker%5B%5D=categorytree&otracker%5B%5D=nmenu_sub_Men_0_Jeans&page=3')"
   ]
  },
  {
   "cell_type": "code",
   "execution_count": 4,
   "metadata": {},
   "outputs": [],
   "source": [
    "def make_directory(dirname):\n",
    "    current_path= os.getcwd()\n",
    "    path=os.path.join(current_path,dirname)\n",
    "    if not os.path.exists(path):\n",
    "        os.makedirs(path)\n"
   ]
  },
  {
   "cell_type": "code",
   "execution_count": 5,
   "metadata": {},
   "outputs": [],
   "source": [
    "make_directory(\"flipkart_jeans1\")"
   ]
  },
  {
   "cell_type": "code",
   "execution_count": 6,
   "metadata": {},
   "outputs": [
    {
     "name": "stdout",
     "output_type": "stream",
     "text": [
      "<selenium.webdriver.remote.webelement.WebElement (session=\"b56d40c8b77e84becd89f68f37fc3833\", element=\"cdb4b541-9932-4b60-b4a1-bc8011323330\")>\n"
     ]
    }
   ],
   "source": [
    "images=driver.find_elements_by_xpath(\"//img[@class='_3togXc']\")\n",
    "print(images[0])"
   ]
  },
  {
   "cell_type": "code",
   "execution_count": 7,
   "metadata": {},
   "outputs": [
    {
     "name": "stdout",
     "output_type": "stream",
     "text": [
      "https://rukminim1.flixcart.com/image/309/371/k7xnukw0/jean/p/h/c/32-kjb-1242-slnkft-bl-killer-original-imafq2fyqyrbxs4w.jpeg?q=50\n",
      "https://rukminim1.flixcart.com/image/330/396/jv6zi4w0/jean/n/r/h/38-mft-30511-g-61-blue-dark-mufti-original-imaf97psk2p8fjvd.jpeg?q=50\n",
      "https://rukminim1.flixcart.com/image/330/396/jucz98w0/jean/w/x/d/32-mss19jn124-metronaut-original-imaffgf6x5zdfhtu.jpeg?q=50\n",
      "https://rukminim1.flixcart.com/image/330/396/jy4q3680/jean/y/d/3/38-aveps700-brown-urbano-fashion-original-imafgfwjfz9qdy3m.jpeg?q=50\n",
      "https://rukminim1.flixcart.com/image/330/396/k3uhhu80/jean/u/u/p/34-greogger-styzon-original-imafmvw39fryjvfn.jpeg?q=50\n",
      "https://rukminim1.flixcart.com/image/330/396/k7xnukw0/jean/s/c/c/32-kjb-1241-slnkft-bl-killer-original-imafq2fycyujzphg.jpeg?q=50\n",
      "https://rukminim1.flixcart.com/image/330/396/jmawvbk0/jean/y/h/f/32-kk2-print-b-aarzu-style-original-imaf98fh8nyz9xvu.jpeg?q=50\n",
      "https://rukminim1.flixcart.com/image/330/396/k2urhjk0/jean/j/2/v/32-w38457w22smu-wrangler-original-imafhv9fgk8y7znm.jpeg?q=50\n",
      "https://rukminim1.flixcart.com/image/330/396/jr9iwsw0/jean/h/n/k/34-jk7-jog-02-34-ridge-vogue-original-imafbmcmqstwzzv4.jpeg?q=50\n",
      "https://rukminim1.flixcart.com/image/330/396/kbcjpu80/jean/j/4/k/38-supepsjean-bla-supernova-inc-original-imafspsnpzrvzrkp.jpeg?q=50\n",
      "https://rukminim1.flixcart.com/image/330/396/k70spzk0/jean/r/w/n/30-hljn000777-highlander-original-imafpchys5vkqwhh.jpeg?q=50\n",
      "https://rukminim1.flixcart.com/image/330/396/jvy4vbk0/jean/u/c/h/32-npjn5108-newport-original-imafgryftafzhmt8.jpeg?q=50\n",
      "https://rukminim1.flixcart.com/image/330/396/jynat8w0/jean/f/7/6/32-mss19jn037b-metronaut-original-imafgmhn6hhnqnue.jpeg?q=50\n",
      "https://rukminim1.flixcart.com/image/330/396/k2p1q4w0/jean/c/a/e/30-epsjean-lgrey-urbano-fashion-original-imafhzzyaypf9yjf.jpeg?q=50\n",
      "https://rukminim1.flixcart.com/image/330/396/jvy4vbk0/jean/q/q/y/32-npjn5111-newport-original-imafgryfrduhnhkk.jpeg?q=50\n",
      "https://rukminim1.flixcart.com/image/330/396/k1118cw0/jean/b/c/c/32-kjb-1201-dnft-bl-killer-original-imafkzvtf2xuwkmp.jpeg?q=50\n",
      "https://rukminim1.flixcart.com/image/330/396/jean/z/d/z/lj250-l-zard-32-original-imaep4d5w4njhjyv.jpeg?q=50\n",
      "https://rukminim1.flixcart.com/image/330/396/jmjhifk0/jean/z/7/n/32-l222922481mv-lee-original-imaf9dtmmgfyksym.jpeg?q=50\n",
      "https://rukminim1.flixcart.com/image/330/396/jhuvjww0/jean/a/u/s/28-denimrelax-7-tribewear-original-imaf5rechkxzfhhv.jpeg?q=50\n",
      "https://rukminim1.flixcart.com/image/330/396/jmthle80/jean/k/8/m/46-blaze-darkgreen-studio-nexx-original-imaf9n3kr7gs5jzy.jpeg?q=50\n",
      "https://rukminim1.flixcart.com/image/330/396/k2p1q4w0/jean/c/a/e/30-epsjean-lgrey-urbano-fashion-original-imafhzzyaypf9yjf.jpeg?q=50\n",
      "https://rukminim1.flixcart.com/image/330/396/kbb49zk0/jean/0/t/8/36-kjb-1247-dnft-bl-killer-original-imafszz9kqkt2ucq.jpeg?q=50\n",
      "https://rukminim1.flixcart.com/image/330/396/k7xnukw0/jean/s/2/s/32-mss20jn150-metronaut-original-imafq2hthdcjrgy8.jpeg?q=50\n",
      "https://rukminim1.flixcart.com/image/330/396/jpfsnm80/jean/y/s/t/30-supepsjean-lgrey-supernova-inc-original-imafbzsscgftk3s7.jpeg?q=50\n",
      "https://rukminim1.flixcart.com/image/330/396/k70spzk0/jean/m/v/v/30-hljn000688-highlander-original-imafpchx5hdf8g2q.jpeg?q=50\n",
      "https://rukminim1.flixcart.com/image/330/396/k70spzk0/jean/y/j/m/30-hljn000669-highlander-original-imafpchxznpkh5zj.jpeg?q=50\n",
      "https://rukminim1.flixcart.com/image/330/396/k6l2vm80/jean/y/p/r/32-w38503w22smu-wrangler-original-imafngxjdvytrhfy.jpeg?q=50\n",
      "https://rukminim1.flixcart.com/image/330/396/jsge4cw0/jean/h/w/e/40-hpsjogger-black-urbano-fashion-original-imafey94hfth8259.jpeg?q=50\n",
      "https://rukminim1.flixcart.com/image/330/396/jw2f6vk0/jean/y/a/5/30-mft-22352-h-61-blue-dark-mufti-original-imafguye7dhdgp3c.jpeg?q=50\n",
      "https://rukminim1.flixcart.com/image/330/396/jpfsnm80/jean/d/e/w/28-supepsjean-dgrey-supernova-inc-original-imafbzss6zqf7j8t.jpeg?q=50\n",
      "https://rukminim1.flixcart.com/image/330/396/k0zlsi80/jean/4/5/g/32-mss19ajn001-metronaut-original-imafkmgs7aucfpzv.jpeg?q=50\n",
      "https://rukminim1.flixcart.com/image/330/396/jq5iky80/jean/v/v/w/28-ss19jn-s2l-m-pln-bu-campus-sutra-original-imafc7dx2hugrj4x.jpeg?q=50\n",
      "https://rukminim1.flixcart.com/image/330/396/jy90eq80/jean/d/u/z/38-hpsjogger-wgrey-urbano-fashion-original-imafggj23hmb4j4s.jpeg?q=50\n",
      "https://rukminim1.flixcart.com/image/330/396/kbnz8nk0/jean/e/c/y/36-5420-rex-straut-original-imafsyaf2jdxgqgh.jpeg?q=50\n",
      "https://rukminim1.flixcart.com/image/330/396/k2m6ufk0/jean/v/2/b/30-lj3127a-lzard-original-imafhxafkyhwk6yw.jpeg?q=50\n",
      "https://rukminim1.flixcart.com/image/330/396/k1118cw0/jean/h/n/e/30-8560305-002-red-chief-original-imafkzahtupzjrkb.jpeg?q=50\n",
      "https://rukminim1.flixcart.com/image/330/396/j52rrm80/jean/z/8/g/30-hal23-halogen-original-imaevtm9hzt3kzyz.jpeg?q=50\n",
      "https://rukminim1.flixcart.com/image/330/396/k9re3rk0/jean/g/q/v/36-ri210312-ragzo-original-imaevp7gfgvyvthh.jpeg?q=50\n",
      "https://rukminim1.flixcart.com/image/330/396/kbfeljk0/jean/h/x/4/32-1112037311-m-bl-v2-retail-limited-original-imafsrrvzvyzxscm.jpeg?q=50\n",
      "https://rukminim1.flixcart.com/image/330/396/kbnz8nk0/jean/k/f/l/38-5316-rex-straut-original-imafsyafnrehsgve.jpeg?q=50\n"
     ]
    }
   ],
   "source": [
    "urls= []\n",
    "for image in images:\n",
    "    source=image.get_attribute('src')\n",
    "    urls.append(source)\n",
    "    print(source)"
   ]
  },
  {
   "cell_type": "code",
   "execution_count": 8,
   "metadata": {},
   "outputs": [],
   "source": [
    "#Saving the images:\n"
   ]
  },
  {
   "cell_type": "code",
   "execution_count": 9,
   "metadata": {},
   "outputs": [],
   "source": [
    "import shutil\n",
    "import requests"
   ]
  },
  {
   "cell_type": "code",
   "execution_count": 10,
   "metadata": {},
   "outputs": [
    {
     "name": "stdout",
     "output_type": "stream",
     "text": [
      "Downloading of 1 of 40image\n",
      "Downloading of 2 of 40image\n",
      "Downloading of 3 of 40image\n",
      "Downloading of 4 of 40image\n",
      "Downloading of 5 of 40image\n",
      "Downloading of 6 of 40image\n",
      "Downloading of 7 of 40image\n",
      "Downloading of 8 of 40image\n",
      "Downloading of 9 of 40image\n",
      "Downloading of 10 of 40image\n",
      "Downloading of 11 of 40image\n",
      "Downloading of 12 of 40image\n",
      "Downloading of 13 of 40image\n",
      "Downloading of 14 of 40image\n",
      "Downloading of 15 of 40image\n",
      "Downloading of 16 of 40image\n",
      "Downloading of 17 of 40image\n",
      "Downloading of 18 of 40image\n",
      "Downloading of 19 of 40image\n",
      "Downloading of 20 of 40image\n",
      "Downloading of 21 of 40image\n",
      "Downloading of 22 of 40image\n",
      "Downloading of 23 of 40image\n",
      "Downloading of 24 of 40image\n",
      "Downloading of 25 of 40image\n",
      "Downloading of 26 of 40image\n",
      "Downloading of 27 of 40image\n",
      "Downloading of 28 of 40image\n",
      "Downloading of 29 of 40image\n",
      "Downloading of 30 of 40image\n",
      "Downloading of 31 of 40image\n",
      "Downloading of 32 of 40image\n",
      "Downloading of 33 of 40image\n",
      "Downloading of 34 of 40image\n",
      "Downloading of 35 of 40image\n",
      "Downloading of 36 of 40image\n",
      "Downloading of 37 of 40image\n",
      "Downloading of 38 of 40image\n",
      "Downloading of 39 of 40image\n",
      "Downloading of 40 of 40image\n"
     ]
    }
   ],
   "source": [
    "for index, link in enumerate(urls):\n",
    "    print(\"Downloading of {0} of {1}image\".format(index+1,len(urls)))\n",
    "    response=requests.get(link)\n",
    "    with open('flipkart_jeans1/image_{0}.jpeg'.format(index),\"wb\") as file:\n",
    "        file.write(response.content)\n",
    "    "
   ]
  },
  {
   "cell_type": "code",
   "execution_count": null,
   "metadata": {},
   "outputs": [],
   "source": []
  },
  {
   "cell_type": "code",
   "execution_count": null,
   "metadata": {},
   "outputs": [],
   "source": []
  },
  {
   "cell_type": "code",
   "execution_count": null,
   "metadata": {},
   "outputs": [],
   "source": []
  },
  {
   "cell_type": "code",
   "execution_count": null,
   "metadata": {},
   "outputs": [],
   "source": []
  }
 ],
 "metadata": {
  "kernelspec": {
   "display_name": "Python 3",
   "language": "python",
   "name": "python3"
  },
  "language_info": {
   "codemirror_mode": {
    "name": "ipython",
    "version": 3
   },
   "file_extension": ".py",
   "mimetype": "text/x-python",
   "name": "python",
   "nbconvert_exporter": "python",
   "pygments_lexer": "ipython3",
   "version": "3.7.4"
  }
 },
 "nbformat": 4,
 "nbformat_minor": 2
}
