{
  "nbformat": 4,
  "nbformat_minor": 0,
  "metadata": {
    "colab": {
      "name": "Untitled1.ipynb",
      "provenance": [],
      "collapsed_sections": []
    },
    "kernelspec": {
      "name": "python3",
      "display_name": "Python 3"
    },
    "accelerator": "GPU"
  },
  "cells": [
    {
      "cell_type": "code",
      "metadata": {
        "id": "zYhdiRJgl7tF",
        "colab_type": "code",
        "colab": {
          "base_uri": "https://localhost:8080/",
          "height": 34
        },
        "outputId": "4a186eea-c806-4c0a-97b6-7bee087a35f8"
      },
      "source": [
        "from google.colab import drive\n",
        "drive.mount('/content/drive')"
      ],
      "execution_count": 46,
      "outputs": [
        {
          "output_type": "stream",
          "text": [
            "Drive already mounted at /content/drive; to attempt to forcibly remount, call drive.mount(\"/content/drive\", force_remount=True).\n"
          ],
          "name": "stdout"
        }
      ]
    },
    {
      "cell_type": "code",
      "metadata": {
        "id": "yK_XYOksnX2J",
        "colab_type": "code",
        "colab": {}
      },
      "source": [
        "#the file must be loaded from drive:\n",
        "file_name=\"/content/drive/My Drive/assignment/Images\""
      ],
      "execution_count": 47,
      "outputs": []
    },
    {
      "cell_type": "code",
      "metadata": {
        "id": "ESNjZu_OoTcl",
        "colab_type": "code",
        "colab": {}
      },
      "source": [
        " import os\n",
        "from keras.models import Sequential\n",
        "from keras.layers import Conv2D\n",
        "from keras.layers import Flatten\n",
        "from keras.layers import Dense\n",
        "from keras.layers import MaxPooling2D"
      ],
      "execution_count": 48,
      "outputs": []
    },
    {
      "cell_type": "code",
      "metadata": {
        "id": "sArY7D9nodMY",
        "colab_type": "code",
        "colab": {}
      },
      "source": [
        "# initializing the CNN:\n",
        "cnn_classifier=Sequential()"
      ],
      "execution_count": 49,
      "outputs": []
    },
    {
      "cell_type": "code",
      "metadata": {
        "id": "bjJxuFwsomdj",
        "colab_type": "code",
        "colab": {}
      },
      "source": [
        "# Step1:Adding 1st layer of Convulation:\n",
        "cnn_classifier.add(Conv2D(64,(3,2), input_shape=(64,64,3),activation='relu'))"
      ],
      "execution_count": 50,
      "outputs": []
    },
    {
      "cell_type": "code",
      "metadata": {
        "id": "dpodyFiJorsa",
        "colab_type": "code",
        "colab": {}
      },
      "source": [
        "#Step2: Pooling:\n",
        "cnn_classifier.add(MaxPooling2D(pool_size=(2,2)))"
      ],
      "execution_count": 51,
      "outputs": []
    },
    {
      "cell_type": "code",
      "metadata": {
        "id": "MGxsgaoPowvS",
        "colab_type": "code",
        "colab": {}
      },
      "source": [
        "# Repeat ie Adding Second Layer of Convulation:\n",
        "cnn_classifier.add(Conv2D(32,(3,2),activation='relu'))"
      ],
      "execution_count": 52,
      "outputs": []
    },
    {
      "cell_type": "code",
      "metadata": {
        "id": "qGytTDtCo2Cs",
        "colab_type": "code",
        "colab": {}
      },
      "source": [
        "# Repeat ie Pooling:\n",
        "cnn_classifier.add(MaxPooling2D(pool_size=(2,2)))"
      ],
      "execution_count": 53,
      "outputs": []
    },
    {
      "cell_type": "code",
      "metadata": {
        "id": "yvS9YZLVpCit",
        "colab_type": "code",
        "colab": {}
      },
      "source": [
        "#Step3: Flattening:\n",
        "cnn_classifier.add(Flatten())"
      ],
      "execution_count": 54,
      "outputs": []
    },
    {
      "cell_type": "code",
      "metadata": {
        "id": "0kWT109QpPVN",
        "colab_type": "code",
        "colab": {}
      },
      "source": [
        "#Step4: Full Connection:\n",
        "cnn_classifier.add(Dense(units=128,activation='relu'))\n",
        "cnn_classifier.add(Dense(units=1,activation='sigmoid'))"
      ],
      "execution_count": 55,
      "outputs": []
    },
    {
      "cell_type": "code",
      "metadata": {
        "id": "a02KCldrpWhn",
        "colab_type": "code",
        "colab": {}
      },
      "source": [
        "#Step5:Compiling The CNN:\n",
        "cnn_classifier.compile(optimizer='adam',loss='binary_crossentropy',metrics=['accuracy'])"
      ],
      "execution_count": 56,
      "outputs": []
    },
    {
      "cell_type": "code",
      "metadata": {
        "id": "itTOS-OSpclr",
        "colab_type": "code",
        "colab": {}
      },
      "source": [
        "# This is the part of Image Preprocessing: done to prevent over fitting.\n",
        "# Generator Class is used and  of two types:\n",
        "# 1st is .flow(x,y) and 2nd is .flowfromdirectory(indirectory)\n",
        "# we use 2nd one as this one is used for separate image data."
      ],
      "execution_count": 57,
      "outputs": []
    },
    {
      "cell_type": "code",
      "metadata": {
        "id": "m6qX7lELpqK6",
        "colab_type": "code",
        "colab": {
          "base_uri": "https://localhost:8080/",
          "height": 235
        },
        "outputId": "9bee75c0-ef4c-4a34-ca80-702730eb5b6a"
      },
      "source": [
        "from keras.preprocessing.image import ImageDataGenerator\n",
        "\n",
        "train_datagen = ImageDataGenerator(rescale=1./255,\n",
        "    shear_range=0.2,\n",
        "    zoom_range=0.2,\n",
        "    horizontal_flip=True,\n",
        "    validation_split=0.2) # set validation split\n",
        "test_datagen = ImageDataGenerator(rescale=1./255)\n",
        "\n",
        "train_generator = train_datagen.flow_from_directory(\n",
        "    '/content/drive/My Drive/assignment/Images',\n",
        "    target_size=(64, 64),\n",
        "    batch_size=32,\n",
        "    class_mode='binary',\n",
        "    shuffle=True,\n",
        "    subset='training') # set as training data\n",
        "\n",
        "validation_generator = test_datagen.flow_from_directory(\n",
        "    '/content/drive/My Drive/assignment/Images',  # same directory as training data\n",
        "    target_size=(64, 64),\n",
        "    batch_size=32,\n",
        "    class_mode='binary',\n",
        "    shuffle=True,\n",
        "    subset='validation') # set as validation data\n",
        "\n",
        "cnn_classifier.fit_generator(\n",
        "       train_generator,\n",
        "       steps_per_epoch = 400,\n",
        "       validation_data = validation_generator, \n",
        "       epochs=5) \n",
        "\n",
        "\n"
      ],
      "execution_count": 63,
      "outputs": [
        {
          "output_type": "stream",
          "text": [
            "Found 160 images belonging to 2 classes.\n",
            "Found 0 images belonging to 2 classes.\n",
            "Epoch 1/5\n",
            "400/400 [==============================] - 63s 157ms/step - loss: 0.0073 - accuracy: 0.9975\n",
            "Epoch 2/5\n",
            "400/400 [==============================] - 64s 160ms/step - loss: 0.0182 - accuracy: 0.9932\n",
            "Epoch 3/5\n",
            "400/400 [==============================] - 63s 157ms/step - loss: 0.0010 - accuracy: 0.9997\n",
            "Epoch 4/5\n",
            "400/400 [==============================] - 63s 157ms/step - loss: 0.0238 - accuracy: 0.9919\n",
            "Epoch 5/5\n",
            "400/400 [==============================] - 62s 155ms/step - loss: 0.0022 - accuracy: 0.9993\n"
          ],
          "name": "stdout"
        },
        {
          "output_type": "execute_result",
          "data": {
            "text/plain": [
              "<keras.callbacks.callbacks.History at 0x7ff64a4cb208>"
            ]
          },
          "metadata": {
            "tags": []
          },
          "execution_count": 63
        }
      ]
    },
    {
      "cell_type": "code",
      "metadata": {
        "id": "_D3ro8VNxCYU",
        "colab_type": "code",
        "colab": {
          "base_uri": "https://localhost:8080/",
          "height": 34
        },
        "outputId": "4516ae27-e25f-4583-ce9a-ff678cc78cb0"
      },
      "source": [
        "import numpy as np\n",
        "from keras.preprocessing import image\n",
        "test_image= image.load_img('/content/drive/My Drive/assignment/check_dataset/image_0.jpeg', target_size=(64,64))\n",
        "test_image=np.expand_dims(test_image,axis=0)\n",
        "result=cnn_classifier.predict(test_image)\n",
        "train_generator.class_indices\n",
        "if result[0][0]==1:\n",
        "  prediction='trousers'\n",
        "  print(prediction)\n",
        "else:\n",
        "  prediction='jeans'"
      ],
      "execution_count": 71,
      "outputs": [
        {
          "output_type": "stream",
          "text": [
            "trousers\n"
          ],
          "name": "stdout"
        }
      ]
    },
    {
      "cell_type": "code",
      "metadata": {
        "id": "0gtdCHM0gQxr",
        "colab_type": "code",
        "colab": {}
      },
      "source": [
        "  "
      ],
      "execution_count": null,
      "outputs": []
    }
  ]
}